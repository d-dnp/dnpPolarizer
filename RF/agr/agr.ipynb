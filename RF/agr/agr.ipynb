{
 "cells": [
  {
   "cell_type": "code",
   "execution_count": 2,
   "metadata": {
    "collapsed": true
   },
   "outputs": [],
   "source": [
    "#agr notebook\n",
    "import numpy as np\n",
    "import matplotlib.pyplot as plt\n",
    "%matplotlib notebook\n",
    "\n",
    "from scipy.constants import mu_0, epsilon_0"
   ]
  },
  {
   "cell_type": "code",
   "execution_count": 10,
   "metadata": {
    "collapsed": false
   },
   "outputs": [
    {
     "name": "stdout",
     "output_type": "stream",
     "text": [
      "2.38399830727e-08\n"
     ]
    }
   ],
   "source": [
    "def L_w(d, w):\n",
    "    \"\"\"\n",
    "    d = diamter\n",
    "    w = width\"\"\"\n",
    "\n",
    "    L_w = 1./8*mu_0*np.pi*d**2 / (w + 0.45*d)\n",
    "    return L_w\n",
    "    \n",
    "L_wThis =  L_w(50e-3, 10e-3)\n",
    "\n",
    "print 61.8e-9 - L_wThis"
   ]
  },
  {
   "cell_type": "code",
   "execution_count": null,
   "metadata": {
    "collapsed": true
   },
   "outputs": [],
   "source": [
    "https://docs.google.com/spreadsheets/d/1LYJNo3mVBikUnaxWOuzR0SJ2vMfcv9rCYdU45RE1b3U/edit?usp=sharing"
   ]
  },
  {
   "cell_type": "code",
   "execution_count": null,
   "metadata": {
    "collapsed": true
   },
   "outputs": [],
   "source": []
  }
 ],
 "metadata": {
  "kernelspec": {
   "display_name": "Python 2",
   "language": "python",
   "name": "python2"
  },
  "language_info": {
   "codemirror_mode": {
    "name": "ipython",
    "version": 2
   },
   "file_extension": ".py",
   "mimetype": "text/x-python",
   "name": "python",
   "nbconvert_exporter": "python",
   "pygments_lexer": "ipython2",
   "version": "2.7.11"
  }
 },
 "nbformat": 4,
 "nbformat_minor": 0
}
