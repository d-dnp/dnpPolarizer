{
 "cells": [
  {
   "cell_type": "code",
   "execution_count": 2,
   "metadata": {
    "collapsed": false
   },
   "outputs": [],
   "source": [
    "import numpy as np\n",
    "import matplotlib.pyplot as plt\n",
    "%matplotlib inline"
   ]
  },
  {
   "cell_type": "code",
   "execution_count": 30,
   "metadata": {
    "collapsed": false,
    "scrolled": true
   },
   "outputs": [
    {
     "data": {
      "text/plain": [
       "[<matplotlib.lines.Line2D at 0x110851290>]"
      ]
     },
     "execution_count": 30,
     "metadata": {},
     "output_type": "execute_result"
    },
    {
     "data": {
      "image/png": "[encoded data removed]",
      "text/plain": [
       "<matplotlib.figure.Figure at 0x10f776f10>"
      ]
     },
     "metadata": {},
     "output_type": "display_data"
    },
    {
     "data": {
      "image/png": "[encoded data removed]",
      "text/plain": [
       "<matplotlib.figure.Figure at 0x10fd46fd0>"
      ]
     },
     "metadata": {},
     "output_type": "display_data"
    }
   ],
   "source": [
    "data = np.loadtxt(\"./mWcalibration.txt\")\n",
    "data2 = np.loadtxt(\"./mWcalibration_curr100.txt\")\n",
    "\n",
    "diff = data2[:, 2]- data[:, 2]\n",
    "\n",
    "plt.plot(data[:30, 0], data[:30, 2] - 180000)\n",
    "plt.plot(data2[:, 0], data2[:, 2] - 180000)\n",
    "#plt.ylim([7000, 8005])\n",
    "plt.xlim([0, 22])\n",
    "\n",
    "plt.figure()\n",
    "plt.plot(data2[:35, 0], diff[:35])\n"
   ]
  },
  {
   "cell_type": "code",
   "execution_count": 13,
   "metadata": {
    "collapsed": true
   },
   "outputs": [],
   "source": [
    "def voltageFromFrequency(freq):\n",
    "    #for interpolation x = freq, y = voltage.\n",
    "    return np.interp(freq, data2[:, 2], data2[:, 0])\n",
    "\n",
    "    \n",
    "    "
   ]
  },
  {
   "cell_type": "code",
   "execution_count": 16,
   "metadata": {
    "collapsed": false
   },
   "outputs": [
    {
     "data": {
      "text/plain": [
       "3.2817809954751334"
      ]
     },
     "execution_count": 16,
     "metadata": {},
     "output_type": "execute_result"
    }
   ],
   "source": [
    "voltageFromFrequency(187000)"
   ]
  },
  {
   "cell_type": "code",
   "execution_count": 31,
   "metadata": {
    "collapsed": false
   },
   "outputs": [
    {
     "name": "stdout",
     "output_type": "stream",
     "text": [
      "F: 187840   V:  12.1692680412\n",
      "F: 187880   V:  12.6139079365\n",
      "F: 187920   V:  13.0480506427\n",
      "F: 187960   V:  13.4760741117\n",
      "F: 188000   V:  13.9091167464\n"
     ]
    }
   ],
   "source": [
    "oxoFrequencies = [187840, 187880, 187920, 187960, 188000]\n",
    "oxoVoltages = [voltageFromFrequency(x) for x in oxoFrequencies]\n",
    "\n",
    "for i in range(len(oxoFrequencies)):\n",
    "    print \"F:\", oxoFrequencies[i], \"  V: \", oxoVoltages[i]"
   ]
  },
  {
   "cell_type": "code",
   "execution_count": null,
   "metadata": {
    "collapsed": true
   },
   "outputs": [],
   "source": []
  }
 ],
 "metadata": {
  "kernelspec": {
   "display_name": "Python 2",
   "language": "python",
   "name": "python2"
  },
  "language_info": {
   "codemirror_mode": {
    "name": "ipython",
    "version": 2
   },
   "file_extension": ".py",
   "mimetype": "text/x-python",
   "name": "python",
   "nbconvert_exporter": "python",
   "pygments_lexer": "ipython2",
   "version": "2.7.11"
  }
 },
 "nbformat": 4,
 "nbformat_minor": 0
}
