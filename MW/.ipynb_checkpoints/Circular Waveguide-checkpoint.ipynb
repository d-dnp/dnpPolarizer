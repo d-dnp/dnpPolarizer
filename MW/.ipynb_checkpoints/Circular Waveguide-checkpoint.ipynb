{
 "cells": [
  {
   "cell_type": "code",
   "execution_count": 27,
   "metadata": {
    "collapsed": false
   },
   "outputs": [
    {
     "ename": "TypeError",
     "evalue": "'float' object is not callable",
     "output_type": "error",
     "traceback": [
      "\u001b[1;31m---------------------------------------------------------------------------\u001b[0m",
      "\u001b[1;31mTypeError\u001b[0m                                 Traceback (most recent call last)",
      "\u001b[1;32m<ipython-input-27-dd9c45c689a5>\u001b[0m in \u001b[0;36m<module>\u001b[1;34m()\u001b[0m\n\u001b[0;32m     26\u001b[0m \u001b[1;33m\u001b[0m\u001b[0m\n\u001b[0;32m     27\u001b[0m \u001b[1;33m\u001b[0m\u001b[0m\n\u001b[1;32m---> 28\u001b[1;33m \u001b[0mTE11\u001b[0m \u001b[1;33m=\u001b[0m \u001b[0mTE\u001b[0m\u001b[1;33m(\u001b[0m\u001b[1;36m1\u001b[0m\u001b[1;33m,\u001b[0m\u001b[1;36m1\u001b[0m\u001b[1;33m)\u001b[0m\u001b[1;33m\u001b[0m\u001b[0m\n\u001b[0m\u001b[0;32m     29\u001b[0m \u001b[1;31m#we operate in G band\u001b[0m\u001b[1;33m\u001b[0m\u001b[1;33m\u001b[0m\u001b[0m\n\u001b[0;32m     30\u001b[0m \u001b[1;33m\u001b[0m\u001b[0m\n",
      "\u001b[1;32m<ipython-input-27-dd9c45c689a5>\u001b[0m in \u001b[0;36m__init__\u001b[1;34m(self, n, m, f, r, epsilon, mu)\u001b[0m\n\u001b[0;32m     16\u001b[0m         \u001b[0mself\u001b[0m\u001b[1;33m.\u001b[0m\u001b[0momega\u001b[0m \u001b[1;33m=\u001b[0m \u001b[1;36m2\u001b[0m\u001b[1;33m*\u001b[0m\u001b[0mpi\u001b[0m\u001b[1;33m*\u001b[0m\u001b[0mself\u001b[0m\u001b[1;33m.\u001b[0m\u001b[0mf\u001b[0m\u001b[1;33m\u001b[0m\u001b[0m\n\u001b[0;32m     17\u001b[0m \u001b[1;33m\u001b[0m\u001b[0m\n\u001b[1;32m---> 18\u001b[1;33m         \u001b[0mself\u001b[0m\u001b[1;33m.\u001b[0m\u001b[0mk\u001b[0m \u001b[1;33m=\u001b[0m \u001b[0mself\u001b[0m\u001b[1;33m.\u001b[0m\u001b[0momega\u001b[0m\u001b[1;33m(\u001b[0m\u001b[1;33m)\u001b[0m\u001b[1;33m\u001b[0m\u001b[0m\n\u001b[0m\u001b[0;32m     19\u001b[0m \u001b[1;33m\u001b[0m\u001b[0m\n\u001b[0;32m     20\u001b[0m         \u001b[1;32mprint\u001b[0m \u001b[1;34m\"pnmprimeVa is: \"\u001b[0m\u001b[1;33m,\u001b[0m \u001b[0mself\u001b[0m\u001b[1;33m.\u001b[0m\u001b[0mpnmprime\u001b[0m\u001b[1;33m\u001b[0m\u001b[0m\n",
      "\u001b[1;31mTypeError\u001b[0m: 'float' object is not callable"
     ]
    }
   ],
   "source": [
    "from scipy.constants import c, epsilon_0, mu_0\n",
    "from scipy.special import jn_zeros, jnp_zeros\n",
    "from numpy import pi, sqrt, array, zeros\n",
    "\n",
    "\n",
    "class TE(object):\n",
    "    def __init__(self, n,m, f = 188e9, r = 2.3e-3, epsilon=1, mu=1):\n",
    "        self.n = n\n",
    "        self.m = m\n",
    "        self.f = f\n",
    "        self.r = r\n",
    "        \n",
    "        \n",
    "        self.pnmprime = self.getPnmprime(self.n, self.m)\n",
    "        \n",
    "        self.omega = 2*pi*self.f\n",
    "        \n",
    "        self.k = self.omega*sqrt(epsilon_0*epsilon*mu_0*mu)\n",
    "        self.kc = self.pnmprime/self.r\n",
    "        self.beta = sqrt(self.k**2 - self.kc**2)\n",
    "        self.lambdac = 2*pi/self.kc\n",
    "        self.lambdag = 2*pi/self.beta\n",
    "        \n",
    "        \n",
    "        print \"pnmprimeVa is: \", self.pnmprime\n",
    "        \n",
    "    def getPnmprime(self, n,m):\n",
    "        allZeros = jnp_zeros(n,m)\n",
    "        return allZeros[-1]\n",
    "        \n",
    "        \n",
    "\n",
    "TE11 = TE(1,1)\n",
    "#we operate in G band\n",
    "\n",
    "\n",
    "#Pozar\n",
    "#Table 3.4\n",
    "p01 = 2.405\n",
    "\n",
    "#Table 3.3\n",
    "p11prime = 1.841\n",
    "\n",
    "#radius\n",
    "a = 2.3e-3\n",
    "\n",
    "#dielectric\n",
    "epsilon = 1 \n",
    "\n",
    "pnmprime = array([[3.832, 7.016, 10.174], [1.841, 5.331, 8.536], [3.054, 6.706, 9.970]])\n",
    "\n",
    "\n",
    "cutoffTE = zeros((10,10))\n",
    "cutoffTM = zeros((10,10))\n",
    "\n",
    "for n in range(10):\n",
    "    zerosTE = jnp_zeros(n, 10)\n",
    "    \n",
    "    cutoffTE[n] = zerosTE*c/(2*pi*a*sqrt(epsilon))/1e9\n",
    "    cutoffTM[n] = jn_zeros(n,10)*c/(2*pi*a*sqrt(epsilon))/1e9\n",
    "\n",
    "#print cutoffTM\n",
    "\n",
    "print \"TE Modes: 01, 02, 11, 12, 13, 21, 22, 31, 32, 41, 42, 51, 61, 71\"\n",
    "print \"TM Modes: 01, 02, 03, 11, 12, 21, 22, 31, 41, 51\"\n",
    "#print cutoffTE[8,0]\n",
    "\n",
    "#epsilon = 2.08 #ptfe\n",
    "\n",
    "te11_fc = pnmprime[1,1-1]*c/(2*pi*a*sqrt(epsilon))\n",
    "tm01_fc = p01*c/(2*pi*a*sqrt(epsilon))\n",
    "print \"Cutoff TE_11: \", te11_fc/1e9 #38.2 GHz\n",
    "print \"Cutoff TM_01: \", tm01_fc/1e9\n",
    "\n",
    "#conductor losses (Pozar Appendix F)\n",
    "sigmaGold = 4.098e7\n",
    "sigmaStainless = 1.1e6\n",
    "\n",
    "Rs = ((2*pi*188*4e-7*pi)/2*sigmaGold)\n",
    "\n",
    "#we can use Pozar p. 126 to estimate the loss due to the stainless. Since t\n",
    "#Rs scales as 1/sqrt(sigma) 40 times better conductivity will hence be 6 times smaller Rs and 6 times less losses.\n",
    "\n",
    "#Furthermore alpha is proportional to 1/r, i.e. doubling the radius should give half the losses. "
   ]
  },
  {
   "cell_type": "code",
   "execution_count": null,
   "metadata": {
    "collapsed": true
   },
   "outputs": [],
   "source": []
  }
 ],
 "metadata": {
  "kernelspec": {
   "display_name": "Python 2",
   "language": "python",
   "name": "python2"
  },
  "language_info": {
   "codemirror_mode": {
    "name": "ipython",
    "version": 2
   },
   "file_extension": ".py",
   "mimetype": "text/x-python",
   "name": "python",
   "nbconvert_exporter": "python",
   "pygments_lexer": "ipython2",
   "version": "2.7.10"
  }
 },
 "nbformat": 4,
 "nbformat_minor": 0
}
