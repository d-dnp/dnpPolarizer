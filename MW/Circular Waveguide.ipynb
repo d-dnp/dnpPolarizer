{
 "cells": [
  {
   "cell_type": "markdown",
   "metadata": {},
   "source": [
    "#Calculation of Waveguide losses\n",
    "\n",
    "This is a calculation of waveguide losses per meter. It is based on the formula given in Pozar's book and gives the correct result for the example therein, as well. "
   ]
  },
  {
   "cell_type": "code",
   "execution_count": 81,
   "metadata": {
    "collapsed": false
   },
   "outputs": [
    {
     "name": "stdout",
     "output_type": "stream",
     "text": [
      "pnmprimeVa is:  1.84118378134\n",
      "Loss per Meter 51.5767161809\n",
      "pnmprimeVa is:  1.84118378134\n",
      "TE11 loss per Meter gold:  0.582724902002\n",
      "TE Modes: 01, 02, 11, 12, 13, 21, 22, 31, 32, 41, 42, 51, 61, 71\n",
      "TM Modes: 01, 02, 03, 11, 12, 21, 22, 31, 41, 51\n",
      "Cutoff TE_11:  146.400773969\n",
      "Cutoff TM_01:  191.251418466\n"
     ]
    }
   ],
   "source": [
    "from scipy.constants import c, epsilon_0, mu_0\n",
    "from scipy.special import jn_zeros, jnp_zeros\n",
    "from numpy import pi, sqrt, array, zeros, log10, linspace\n",
    "\n",
    "\n",
    "class TE(object):\n",
    "    def __init__(self, n,m, f = 188e9, R = 2.3e-3, epsilon=1, mu=1):\n",
    "        self.n = n\n",
    "        self.m = m\n",
    "        self.f = f\n",
    "        self.R = R\n",
    "        self.epsilon = epsilon\n",
    "        self.mu = mu\n",
    "        \n",
    "        \n",
    "        self.pnmprime = self.getPnmprime(self.n, self.m)\n",
    "        \n",
    "        self.omega = 2*pi*self.f\n",
    "        \n",
    "        self.k = self.omega*sqrt(epsilon_0*epsilon*mu_0*mu)\n",
    "        self.kc = self.pnmprime/self.R\n",
    "        self.beta = sqrt(self.k**2 - self.kc**2)\n",
    "        self.lambdac = 2*pi/self.kc\n",
    "        self.lambdag = 2*pi/self.beta\n",
    "        self.vp = self.omega/self.beta\n",
    "        self.eta = sqrt(self.mu*mu_0/(self.epsilon*epsilon_0))\n",
    "        \n",
    "        \n",
    "        print \"pnmprimeVa is: \", self.pnmprime\n",
    "        \n",
    "    def getPnmprime(self, n,m):\n",
    "        allZeros = jnp_zeros(n,m)\n",
    "        return allZeros[-1]\n",
    "    \n",
    "    def lossPerMeter(self, sigma):\n",
    "        Rs = sqrt(self.omega*self.mu*mu_0/(2*sigma))\n",
    "        alpha = Rs/(self.R*self.k*self.eta*self.beta)*(self.kc**2 + self.k**2/(self.pnmprime**2 -1))\n",
    "        return alpha*8.686\n",
    "        \n",
    "\n",
    "        \n",
    "#conductor losses (Pozar Appendix F)\n",
    "sigmaGold = 4.098e7\n",
    "sigmaStainless = 1.1e6\n",
    "\n",
    "TE11 = TE(1,1, R = 0.6e-3)\n",
    "print \"Loss per Meter\", TE11.lossPerMeter(sigmaStainless)\n",
    "\n",
    "\n",
    "#book test\n",
    "TE11book = TE(1,1, f = 14e9, R = 5e-3, epsilon = 2.08)\n",
    "print \"TE11 loss per Meter gold: \", TE11book.lossPerMeter(sigmaGold) \n",
    "\n",
    "#we operate in G band\n",
    "\n",
    "\n",
    "#Pozar\n",
    "#Table 3.4\n",
    "p01 = 2.405\n",
    "\n",
    "#Table 3.3\n",
    "p11prime = 1.841\n",
    "\n",
    "#radius\n",
    "a = 0.6e-3\n",
    "\n",
    "#dielectric\n",
    "epsilon = 1 \n",
    "\n",
    "pnmprime = array([[3.832, 7.016, 10.174], [1.841, 5.331, 8.536], [3.054, 6.706, 9.970]])\n",
    "\n",
    "\n",
    "cutoffTE = zeros((10,10))\n",
    "cutoffTM = zeros((10,10))\n",
    "\n",
    "for n in range(10):\n",
    "    zerosTE = jnp_zeros(n, 10)\n",
    "    \n",
    "    cutoffTE[n] = zerosTE*c/(2*pi*a*sqrt(epsilon))/1e9\n",
    "    cutoffTM[n] = jn_zeros(n,10)*c/(2*pi*a*sqrt(epsilon))/1e9\n",
    "\n",
    "#print cutoffTM\n",
    "\n",
    "print \"TE Modes: 01, 02, 11, 12, 13, 21, 22, 31, 32, 41, 42, 51, 61, 71\"\n",
    "print \"TM Modes: 01, 02, 03, 11, 12, 21, 22, 31, 41, 51\"\n",
    "#print cutoffTE[8,0]\n",
    "\n",
    "#epsilon = 2.08 #ptfe\n",
    "\n",
    "te11_fc = pnmprime[1,1-1]*c/(2*pi*a*sqrt(epsilon))\n",
    "tm01_fc = p01*c/(2*pi*a*sqrt(epsilon))\n",
    "print \"Cutoff TE_11: \", te11_fc/1e9 #38.2 GHz\n",
    "print \"Cutoff TM_01: \", tm01_fc/1e9\n",
    "\n",
    "\n",
    "\n",
    "Rs = ((2*pi*188*4e-7*pi)/2*sigmaGold)\n",
    "\n",
    "#we can use Pozar p. 126 to estimate the loss due to the stainless. Since t\n",
    "#Rs scales as 1/sqrt(sigma) 40 times better conductivity will hence be 6 times smaller Rs and 6 times less losses.\n",
    "\n",
    "#Furthermore alpha is proportional to 1/r, i.e. doubling the radius should give half the losses. "
   ]
  },
  {
   "cell_type": "markdown",
   "metadata": {},
   "source": [
    "#Measurement of Waveguide losses\n",
    "\n",
    "Source: VCOM-05/188/50-DD (bandwidth not specified on label)<br>\n",
    "Serial-No.: A-1308/22\n",
    "\n",
    "Phone Ian: +44 [0] 131 452 8777\n",
    "\n",
    "The frequency was set to 188 GHz and the output power was set to 50 mW and measured with the ELVA power meter. \n",
    "\n",
    "Direct connection resulted in a measured power of 47.77 mW.\n",
    "Connection via two tapers resulted in 46.90 mW.\n",
    "\n",
    "Different length of stainless steel tube where installed between tapers, giving the following power vs length:\n",
    "\n",
    "| Length | Power with two tapers | Comment |\n",
    "|------------------------------------------|\n",
    "| 22     | 27.97                 |         |\n",
    "| 47     | 18.70                 |         |\n",
    "| 83.5   | 9.2                   |         |\n",
    "| 153    | 2.97                  | this is our waveguide        |\n"
   ]
  },
  {
   "cell_type": "code",
   "execution_count": 63,
   "metadata": {
    "collapsed": false
   },
   "outputs": [
    {
     "name": "stdout",
     "output_type": "stream",
     "text": [
      "Attenuation per m:  7.43462608438\n",
      "Connector loss:  0.609225933979\n"
     ]
    },
    {
     "data": {
      "image/png": "[encoded data removed]",
      "text/plain": [
       "<matplotlib.figure.Figure at 0x7f1712718b90>"
      ]
     },
     "metadata": {},
     "output_type": "display_data"
    }
   ],
   "source": [
    "from matplotlib.pyplot import *\n",
    "%matplotlib inline\n",
    "l = array([22, 47, 83.5, 153])\n",
    "p = array([27.97, 18.70, 9.2, 2.97])\n",
    "p0 = 46.90\n",
    "\n",
    "attenuation = -10*log10(p/p0)\n",
    "\n",
    "xDemo = linspace(0,160)\n",
    "plot(xDemo, 0.609+xDemo/100.*7.434, \"-\", color=\"#888888\")\n",
    "plot(l, attenuation, \"-x\")\n",
    "xlabel(\"Length (cm)\")\n",
    "ylabel(\"Loss (dB)\")\n",
    "xlim([0, 160])\n",
    "ylim([0, 13])\n",
    "grid()\n",
    "\n",
    "print \"Attenuation per m: \", (attenuation[-1] - attenuation[0])/((l[-1] - l[0])/100.)\n",
    "print \"Connector loss: \", attenuation[-1] - 7.4346*1.53"
   ]
  },
  {
   "cell_type": "code",
   "execution_count": null,
   "metadata": {
    "collapsed": true
   },
   "outputs": [],
   "source": []
  }
 ],
 "metadata": {
  "kernelspec": {
   "display_name": "Python 2",
   "language": "python",
   "name": "python2"
  },
  "language_info": {
   "codemirror_mode": {
    "name": "ipython",
    "version": 2
   },
   "file_extension": ".py",
   "mimetype": "text/x-python",
   "name": "python",
   "nbconvert_exporter": "python",
   "pygments_lexer": "ipython2",
   "version": "2.7.11"
  }
 },
 "nbformat": 4,
 "nbformat_minor": 0
}
